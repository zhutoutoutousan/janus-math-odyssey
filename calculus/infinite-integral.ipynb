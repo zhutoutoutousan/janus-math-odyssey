{
 "cells": [
  {
   "cell_type": "code",
   "execution_count": 12,
   "metadata": {},
   "outputs": [],
   "source": [
    "# Calculate the 10 times integral of the function f(x) = x^2\n",
    "import random\n",
    "import scipy.integrate\n",
    "import numpy as np\n",
    "import matplotlib.pyplot as plt\n",
    "\n",
    "def integrate(f, a, b, n):\n",
    "    h = (b - a) / n\n",
    "    total = 0\n",
    "    for i in range(n):\n",
    "        total += f(a + i * h)\n",
    "    return total * h\n",
    "def f(x):\n",
    "    return x**2\n",
    "\n",
    "\n"
   ]
  },
  {
   "cell_type": "markdown",
   "metadata": {},
   "source": [
    "# Quotient Rules\n",
    "\n",
    "<!-- Explain quotient rule -->\n",
    "$$\n",
    "\n",
    "\\begin{align*}\n",
    "\\int_{a}^{b} f(x) dx &= \\int_{a}^{b} f(x) dx \\\\\n",
    "\\end{align*}\n",
    "\n",
    "$$"
   ]
  },
  {
   "cell_type": "code",
   "execution_count": null,
   "metadata": {},
   "outputs": [],
   "source": []
  }
 ],
 "metadata": {
  "kernelspec": {
   "display_name": "Python 3.9.12 ('base')",
   "language": "python",
   "name": "python3"
  },
  "language_info": {
   "codemirror_mode": {
    "name": "ipython",
    "version": 3
   },
   "file_extension": ".py",
   "mimetype": "text/x-python",
   "name": "python",
   "nbconvert_exporter": "python",
   "pygments_lexer": "ipython3",
   "version": "3.9.12"
  },
  "orig_nbformat": 4,
  "vscode": {
   "interpreter": {
    "hash": "e42634819b8c191a5d07eaf23810ff32516dd8d3875f28ec3e488928fbd3c187"
   }
  }
 },
 "nbformat": 4,
 "nbformat_minor": 2
}

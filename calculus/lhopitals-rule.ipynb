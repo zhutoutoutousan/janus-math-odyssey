{
 "cells": [
  {
   "cell_type": "markdown",
   "metadata": {},
   "source": [
    "# L'Hopital's rule\n",
    "$$\n",
    "\\begin{align*}\n",
    "\\lim_{x \\to x_0} \\frac{f(x)}{f(x_0)} &= \\lim_{x \\to x_0} \\frac{f'(x)}{f'(x_0)} \\\\\n",
    "\\end{align*}\n",
    "$$"
   ]
  },
  {
   "cell_type": "code",
   "execution_count": null,
   "metadata": {},
   "outputs": [],
   "source": [
    "# L'Hopital's Rule\n",
    "import numpy as np\n",
    "import matplotlib.pyplot as plt\n",
    "import random\n",
    "\n",
    "# Verify L'Hopital's Rule\n",
    "# Create a function that calculate the derivative of a function\n",
    "def derivative(f, h):\n",
    "    '''\n",
    "    Calculates the derivative of a function\n",
    "    '''\n",
    "    return lambda x: (f(x + h) - f(x)) / h\n",
    "\n",
    "# Create a function that calculate the integral of a function\n",
    "def integral(f, a, b, h):\n",
    "    '''\n",
    "    Calculates the integral of a function\n",
    "    '''\n",
    "    return lambda x: (f(x) * h) + integral(f, a, b, h)\n",
    "\n",
    "# Use the derivative function to verify L'Hopital's Rule\n",
    "def derivative_verify(f, h):\n",
    "    '''\n",
    "    Verifies L'Hopital's Rule\n",
    "    '''\n",
    "    return lambda x: (f(x + h) - f(x - h)) / (2 * h)\n",
    "\n",
    "# Test code\n",
    "def f(x):\n",
    "    '''\n",
    "    Test function\n",
    "    '''\n",
    "    return x ** 2\n",
    "\n"
   ]
  }
 ],
 "metadata": {
  "language_info": {
   "name": "python"
  },
  "orig_nbformat": 4
 },
 "nbformat": 4,
 "nbformat_minor": 2
}

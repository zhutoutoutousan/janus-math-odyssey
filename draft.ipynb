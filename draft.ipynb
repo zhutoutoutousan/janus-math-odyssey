{
 "cells": [
  {
   "cell_type": "markdown",
   "metadata": {},
   "source": [
    "$\\sum_{k=0}^{12} D \\times 0.1^{12-k}$"
   ]
  },
  {
   "cell_type": "code",
   "execution_count": 11,
   "metadata": {},
   "outputs": [
    {
     "name": "stdout",
     "output_type": "stream",
     "text": [
      "8099.028268966214\n",
      "71054.50000654256\n",
      "3715.393595179435\n"
     ]
    }
   ],
   "source": [
    "a = 2346\n",
    "for i in range(0, 13):\n",
    "    a = a + a * 0.1\n",
    "print(a)\n",
    "\n",
    "b = 2346\n",
    "for i in range(0, 13):\n",
    "    b = b + b * 0.3\n",
    "print(b)\n",
    "\n",
    "c = 2346\n",
    "for i in range(0, 13):\n",
    "    c = c + c * 0.036\n",
    "print(c)"
   ]
  },
  {
   "cell_type": "code",
   "execution_count": 9,
   "metadata": {},
   "outputs": [
    {
     "name": "stdout",
     "output_type": "stream",
     "text": [
      "14795212.645632762\n"
     ]
    }
   ],
   "source": [
    "b = 13000000\n",
    "for i in range(0, 13):\n",
    "    b = b + b * 0.01\n",
    "print(b)\n"
   ]
  }
 ],
 "metadata": {
  "kernelspec": {
   "display_name": "Python 3.9.12 ('base')",
   "language": "python",
   "name": "python3"
  },
  "language_info": {
   "codemirror_mode": {
    "name": "ipython",
    "version": 3
   },
   "file_extension": ".py",
   "mimetype": "text/x-python",
   "name": "python",
   "nbconvert_exporter": "python",
   "pygments_lexer": "ipython3",
   "version": "3.9.12"
  },
  "orig_nbformat": 4,
  "vscode": {
   "interpreter": {
    "hash": "e42634819b8c191a5d07eaf23810ff32516dd8d3875f28ec3e488928fbd3c187"
   }
  }
 },
 "nbformat": 4,
 "nbformat_minor": 2
}

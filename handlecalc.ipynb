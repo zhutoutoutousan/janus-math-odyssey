{
 "cells": [
  {
   "cell_type": "code",
   "execution_count": 5,
   "metadata": {},
   "outputs": [
    {
     "data": {
      "image/png": "[encoded data removed]",
      "text/plain": [
       "<Figure size 432x288 with 1 Axes>"
      ]
     },
     "metadata": {
      "needs_background": "light"
     },
     "output_type": "display_data"
    }
   ],
   "source": [
    "import matplotlib as mpl\n",
    "import matplotlib.pyplot as plt\n",
    "\n",
    "# Visualize complex number using 3-d plot\n",
    "def plot_complex(complex_number):\n",
    "    '''\n",
    "    Plots a complex number\n",
    "    '''\n",
    "    x = complex_number.real\n",
    "    y = complex_number.imag\n",
    "    plt.plot(x, y, 'o')\n",
    "    plt.xlabel('Real')\n",
    "    plt.ylabel('Imaginary')\n",
    "    plt.show()\n",
    "    return\n",
    "\n",
    "# Plot a smile face using 3-d plot\n",
    "def plot_smile(complex_number):\n",
    "    '''\n",
    "    Plots a smile face\n",
    "    '''\n",
    "    x = complex_number.real\n",
    "    y = complex_number.imag\n",
    "    plt.plot(x, y, 'o')\n",
    "    plt.plot(x, y, 'o')\n",
    "    plt.plot([x, x], [y, y], 'r')\n",
    "    plt.plot([x, x], [y, y], 'r')\n",
    "    plt.plot([x, x], [y, y], 'r')\n",
    "    plt.xlabel('Real')\n",
    "    plt.ylabel('Imaginary')\n",
    "    plt.show()\n",
    "    return\n",
    "\n",
    "plot_smile(complex(3, 5))\n"
   ]
  }
 ],
 "metadata": {
  "kernelspec": {
   "display_name": "Python 3.9.12 ('base')",
   "language": "python",
   "name": "python3"
  },
  "language_info": {
   "codemirror_mode": {
    "name": "ipython",
    "version": 3
   },
   "file_extension": ".py",
   "mimetype": "text/x-python",
   "name": "python",
   "nbconvert_exporter": "python",
   "pygments_lexer": "ipython3",
   "version": "3.9.12"
  },
  "orig_nbformat": 4,
  "vscode": {
   "interpreter": {
    "hash": "e42634819b8c191a5d07eaf23810ff32516dd8d3875f28ec3e488928fbd3c187"
   }
  }
 },
 "nbformat": 4,
 "nbformat_minor": 2
}
